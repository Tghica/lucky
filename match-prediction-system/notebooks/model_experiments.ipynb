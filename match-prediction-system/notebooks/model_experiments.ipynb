{
 "cells": [
  {
   "cell_type": "markdown",
   "metadata": {},
   "source": [
    "# Model Experiments\n",
    "\n",
    "This notebook is used for experimenting with different model architectures and training strategies for the match prediction system."
   ]
  },
  {
   "cell_type": "code",
   "execution_count": null,
   "metadata": {},
   "outputs": [],
   "source": [
    "import pandas as pd\n",
    "from src.data_processor.data_loader import DataLoader\n",
    "from src.data_processor.feature_engineering import FeatureEngineering\n",
    "from src.model_trainer.train import Trainer\n",
    "from src.model_trainer.model import Model\n",
    "from src.model_trainer.evaluation import Evaluator\n",
    "\n",
    "# Load and preprocess data\n",
    "data_loader = DataLoader()\n",
    "raw_data = data_loader.load_data('data/raw/match_data.csv')\n",
    "\n",
    "feature_engineering = FeatureEngineering()\n",
    "processed_data = feature_engineering.transform(raw_data)\n",
    "\n",
    "# Initialize model\n",
    "model = Model()\n",
    "\n",
    "# Train model\n",
    "trainer = Trainer(model)\n",
    "trainer.train(processed_data)\n",
    "\n",
    "# Evaluate model\n",
    "evaluator = Evaluator(model)\n",
    "evaluation_results = evaluator.evaluate(processed_data)\n",
    "evaluation_results"
   ]
  }
 ],
 "metadata": {
  "kernelspec": {
   "display_name": "Python 3",
   "language": "python",
   "name": "python3"
  },
  "language_info": {
   "codemirror_mode": {
    "name": "ipython",
    "version": 3
   },
   "file_extension": ".py",
   "mimetype": "text/x-python",
   "name": "python",
   "nbconvert_exporter": "python",
   "pygments_lexer": "ipython3",
   "version": "3.8.5"
  }
 },
 "nbformat": 4,
 "nbformat_minor": 4
}